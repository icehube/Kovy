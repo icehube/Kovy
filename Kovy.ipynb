{
  "nbformat": 4,
  "nbformat_minor": 0,
  "metadata": {
    "colab": {
      "provenance": [],
      "include_colab_link": true
    },
    "kernelspec": {
      "name": "python3",
      "display_name": "Python 3"
    },
    "language_info": {
      "name": "python"
    }
  },
  "cells": [
    {
      "cell_type": "markdown",
      "metadata": {
        "id": "view-in-github",
        "colab_type": "text"
      },
      "source": [
        "<a href=\"https://colab.research.google.com/github/icehube/Kovy/blob/main/Kovy.ipynb\" target=\"_parent\"><img src=\"https://colab.research.google.com/assets/colab-badge.svg\" alt=\"Open In Colab\"/></a>"
      ]
    },
    {
      "cell_type": "code",
      "source": [
        "from google.colab import drive\n",
        "import os\n",
        "import copy\n",
        "import time\n",
        "from datetime import datetime\n",
        "import json\n",
        "import pandas as pd\n",
        "\n",
        "import numpy as np\n",
        "import torch\n",
        "import torch.nn as nn\n",
        "import torch.optim as optim\n",
        "from torch.utils.tensorboard import SummaryWriter\n",
        "\n",
        "from collections import deque\n",
        "\n",
        "drive.mount('/content/drive')\n",
        "\n",
        "from lib.env import *\n",
        "from lib.dqn_utils import *\n"
      ],
      "metadata": {
        "id": "M99ldJqATJJW"
      },
      "execution_count": null,
      "outputs": []
    },
    {
      "cell_type": "code",
      "source": [
        "\n",
        "config = {\n",
        "    'train_config' : {\n",
        "        'replay_buffer_size' : 10000,\n",
        "        'target_model_sync_period' : 1000,\n",
        "        'epsilon_frames' : 10000,\n",
        "        'epsilon_start' : 1.0,\n",
        "        'epsilon_final' : 0.1,\n",
        "        'learning_rate' : 0.0001,\n",
        "        'gamma' : 0.99,\n",
        "        'batch_size' : 64,\n",
        "    },\n",
        "\n",
        "    'env_config' : {\n",
        "        'budget' : 56.8,\n",
        "        'min_bid' : 0.5,\n",
        "        'max_bid' : 11.4,\n",
        "        'bid_unit' : 0.1,\n",
        "        'forward' : 12,\n",
        "        'defense' : 6,\n",
        "        'goalie' : 2,\n",
        "        'bench' : 4,\n",
        "        'teams' : ['GVR', 'MAC', 'BOT', 'SHF', 'ZSK', 'LGN',\n",
        "                   'SRL', 'LPT', 'HSM', 'JHN', 'VPP'],\n",
        "        'agent_team' : 'BOT',\n",
        "\n",
        "    }\n",
        "}\n"
      ],
      "metadata": {
        "id": "7aidQqvrTR8s"
      },
      "execution_count": null,
      "outputs": []
    },
    {
      "cell_type": "code",
      "source": [
        "device = torch.device(\"cuda\" if torch.cuda.is_available() else \"cpu\")\n",
        "\n",
        "\n",
        "train_config = config['train_config']\n",
        "\n",
        "data = load_data('players.csv')\n",
        "\n",
        "run_name = 'DQN_%s' % datetime.now().strftime('%Y-%m-%d_%H-%M-%S')\n",
        "\n",
        "os.makedirs('runs/%s' % run_name, exist_ok=True)\n",
        "os.makedirs('models/%s' % run_name, exist_ok=True)\n",
        "\n",
        "writer = SummaryWriter('runs/%s' % run_name)\n",
        "\n",
        "with open('runs/%s/config.json' % run_name, 'w') as f:\n",
        "    json.dump(config, f, indent=4)\n",
        "with open('models/%s/config.json' % run_name, 'w') as f:\n",
        "    json.dump(config, f, indent=4)\n",
        "\n",
        "env = Env(data, config['env_config'])\n",
        "\n",
        "main_model = Model_v1(env.n_states, env.n_actions).to(device)\n",
        "target_model = copy.deepcopy(main_model)\n",
        "\n",
        "buffer = ExperienceReplayBuffer(buffer_size=train_config['replay_buffer_size'])\n",
        "optimizer = optim.Adam(main_model.parameters(), lr=train_config['learning_rate'])"
      ],
      "metadata": {
        "colab": {
          "base_uri": "https://localhost:8080/",
          "height": 247
        },
        "id": "ezQ-wXovTVfR",
        "outputId": "9694fbef-6e27-4997-9431-600511ad54a6"
      },
      "execution_count": null,
      "outputs": [
        {
          "output_type": "error",
          "ename": "NameError",
          "evalue": "ignored",
          "traceback": [
            "\u001b[0;31m---------------------------------------------------------------------------\u001b[0m",
            "\u001b[0;31mNameError\u001b[0m                                 Traceback (most recent call last)",
            "\u001b[0;32m<ipython-input-4-e3679801ba7f>\u001b[0m in \u001b[0;36m<cell line: 6>\u001b[0;34m()\u001b[0m\n\u001b[1;32m      4\u001b[0m \u001b[0mtrain_config\u001b[0m \u001b[0;34m=\u001b[0m \u001b[0mconfig\u001b[0m\u001b[0;34m[\u001b[0m\u001b[0;34m'train_config'\u001b[0m\u001b[0;34m]\u001b[0m\u001b[0;34m\u001b[0m\u001b[0;34m\u001b[0m\u001b[0m\n\u001b[1;32m      5\u001b[0m \u001b[0;34m\u001b[0m\u001b[0m\n\u001b[0;32m----> 6\u001b[0;31m \u001b[0mdata\u001b[0m \u001b[0;34m=\u001b[0m \u001b[0mload_data\u001b[0m\u001b[0;34m(\u001b[0m\u001b[0;34m'players.csv'\u001b[0m\u001b[0;34m)\u001b[0m\u001b[0;34m\u001b[0m\u001b[0;34m\u001b[0m\u001b[0m\n\u001b[0m\u001b[1;32m      7\u001b[0m \u001b[0;34m\u001b[0m\u001b[0m\n\u001b[1;32m      8\u001b[0m \u001b[0mrun_name\u001b[0m \u001b[0;34m=\u001b[0m \u001b[0;34m'DQN_%s'\u001b[0m \u001b[0;34m%\u001b[0m \u001b[0mdatetime\u001b[0m\u001b[0;34m.\u001b[0m\u001b[0mnow\u001b[0m\u001b[0;34m(\u001b[0m\u001b[0;34m)\u001b[0m\u001b[0;34m.\u001b[0m\u001b[0mstrftime\u001b[0m\u001b[0;34m(\u001b[0m\u001b[0;34m'%Y-%m-%d_%H-%M-%S'\u001b[0m\u001b[0;34m)\u001b[0m\u001b[0;34m\u001b[0m\u001b[0;34m\u001b[0m\u001b[0m\n",
            "\u001b[0;31mNameError\u001b[0m: name 'load_data' is not defined"
          ]
        }
      ]
    },
    {
      "cell_type": "code",
      "source": [
        "frame_idx = 0\n",
        "\n",
        "while True:\n",
        "    frame_idx += 1\n",
        "\n",
        "    epsilon = max(train_config['epsilon_final'], train_config['epsilon_start'] - frame_idx / train_config['epsilon_frames'])\n",
        "\n",
        "    if env.done == True:\n",
        "        env.reset()\n",
        "    state = env.state\n",
        "    state_v = torch.tensor(state, dtype=torch.float32).unsqueeze(0).to(device)\n",
        "    if np.random.rand() < epsilon:\n",
        "        action = np.random.choice(env.n_actions)\n",
        "    else:\n",
        "        action = main_model(state_v).detach().cpu().numpy().argmax()\n",
        "\n",
        "    next_state, reward, done, _ = env.step(action)\n",
        "\n",
        "    buffer.add(state, action, reward, done, next_state)\n",
        "    state = next_state\n",
        "\n",
        "    if len(buffer.state_buffer) < train_config['replay_buffer_size']:\n",
        "        continue\n",
        "\n",
        "\n",
        "    optimizer.zero_grad()\n",
        "    states, actions, rewards, dones, next_states = buffer.sample(train_config['batch_size'])\n",
        "\n",
        "    states_v = torch.tensor(states, dtype=torch.float32).to(device)\n",
        "    next_states_v = torch.tensor(next_states, dtype=torch.float32).to(device)\n",
        "    actions_v = torch.tensor(actions).to(device)\n",
        "    rewards_v = torch.tensor(rewards).to(device)\n",
        "    done_mask = torch.ByteTensor(dones).to(device)\n",
        "\n",
        "    state_action_values = main_model(states_v).gather(0, actions_v.unsqueeze(-1)).squeeze(-1)\n",
        "    next_state_actions = main_model(next_states_v).max(1)[1]\n",
        "    next_state_values = target_model(next_states_v).gather(0, next_state_actions.unsqueeze(-1)).squeeze(-1)\n",
        "    next_state_values[done_mask] = 0.0\n",
        "\n",
        "    expected_state_action_values = next_state_values.detach() * train_config['gamma'] + rewards_v\n",
        "    loss_v = nn.MSELoss()(state_action_values, expected_state_action_values)\n",
        "    loss_v.backward()\n",
        "    optimizer.step()\n",
        "\n",
        "    if frame_idx % train_config['target_model_sync_period'] == 0:\n",
        "        target_model.load_state_dict(main_model.state_dict())\n",
        "        torch.save(main_model, 'models/%s/model_%d.pth' % (run_name, frame_idx / train_config['target_model_sync_period']))\n",
        "\n",
        "    if frame_idx % 100 == 0:\n",
        "        writer.add_scalar('Epsilon', epsilon, frame_idx)\n"
      ],
      "metadata": {
        "id": "TjWt9NaVTdmg"
      },
      "execution_count": null,
      "outputs": []
    }
  ]
}